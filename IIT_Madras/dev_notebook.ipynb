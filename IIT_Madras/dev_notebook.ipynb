{
 "cells": [
  {
   "cell_type": "markdown",
   "metadata": {},
   "source": [
    "### List of prime numbers"
   ]
  },
  {
   "cell_type": "code",
   "execution_count": 15,
   "metadata": {},
   "outputs": [
    {
     "name": "stdout",
     "output_type": "stream",
     "text": [
      "[2, 3, 5, 7, 11, 13, 17, 19, 23, 29, 31, 37, 41, 43, 47, 53, 59, 61, 67, 71, 73, 79, 83, 89, 97]\n"
     ]
    }
   ],
   "source": [
    "def factors(n):\n",
    "    factorlist = []\n",
    "    for i in range(1, n+1):\n",
    "        if n % i == 0:\n",
    "            factorlist.append(i)\n",
    "    return factorlist\n",
    "\n",
    "def prime(n):\n",
    "    #return(factors(n) == [1, n])\n",
    "    return(len(factors(n)) == 2)\n",
    "\n",
    "def primelist(n):\n",
    "    primelist = []\n",
    "    for i in range(1, n+1):\n",
    "        if prime(i):\n",
    "            primelist.append(i)\n",
    "    return primelist\n",
    "\n",
    "print(primelist(100))"
   ]
  },
  {
   "cell_type": "markdown",
   "metadata": {},
   "source": [
    "### Greatest common divisor"
   ]
  },
  {
   "cell_type": "code",
   "execution_count": 20,
   "metadata": {},
   "outputs": [
    {
     "data": {
      "text/plain": [
       "4"
      ]
     },
     "execution_count": 20,
     "metadata": {},
     "output_type": "execute_result"
    }
   ],
   "source": [
    "def gcd(m,n):\n",
    "    cf = []\n",
    "    for i in range(1, min(m,n) + 1):\n",
    "        if m%i == 0 and n%i == 0:\n",
    "            cf.append(i)\n",
    "    return(cf[-1])\n",
    "\n",
    "gcd(8, 12)"
   ]
  },
  {
   "cell_type": "code",
   "execution_count": null,
   "metadata": {},
   "outputs": [],
   "source": []
  }
 ],
 "metadata": {
  "kernelspec": {
   "display_name": "dsa",
   "language": "python",
   "name": "python3"
  },
  "language_info": {
   "codemirror_mode": {
    "name": "ipython",
    "version": 3
   },
   "file_extension": ".py",
   "mimetype": "text/x-python",
   "name": "python",
   "nbconvert_exporter": "python",
   "pygments_lexer": "ipython3",
   "version": "3.11.4"
  },
  "orig_nbformat": 4
 },
 "nbformat": 4,
 "nbformat_minor": 2
}
