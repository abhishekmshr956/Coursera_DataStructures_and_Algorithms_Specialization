{
 "cells": [
  {
   "cell_type": "markdown",
   "metadata": {},
   "source": [
    "### List of prime numbers"
   ]
  },
  {
   "cell_type": "code",
   "execution_count": 39,
   "metadata": {},
   "outputs": [
    {
     "name": "stdout",
     "output_type": "stream",
     "text": [
      "[2, 3, 5, 7, 11, 13, 17, 19, 23, 29, 31, 37, 41, 43, 47, 53, 59, 61, 67, 71, 73, 79, 83, 89, 97]\n",
      "[2, 3, 5, 7, 11, 13, 17, 19, 23, 29, 31, 37, 41, 43, 47, 53, 59, 61, 67, 71, 73, 79, 83, 89, 97, 101, 103, 107, 109, 113, 127, 131, 137, 139, 149, 151, 157, 163, 167, 173, 179, 181, 191, 193, 197, 199, 211, 223, 227, 229, 233, 239, 241, 251, 257, 263, 269, 271, 277, 281, 283, 293, 307, 311, 313, 317, 331, 337, 347, 349, 353, 359, 367, 373, 379, 383, 389, 397, 401, 409, 419, 421, 431, 433, 439, 443, 449, 457, 461, 463, 467, 479, 487, 491, 499, 503, 509, 521, 523, 541, 547, 557, 563, 569, 571, 577, 587, 593, 599, 601, 607, 613, 617, 619, 631, 641, 643, 647, 653, 659, 661, 673, 677, 683, 691, 701, 709, 719, 727, 733, 739, 743, 751, 757, 761, 769, 773, 787, 797, 809, 811, 821, 823, 827, 829, 839, 853, 857, 859, 863, 877, 881, 883, 887, 907, 911, 919, 929, 937, 941, 947, 953, 967, 971, 977, 983, 991, 997, 1009, 1013, 1019, 1021, 1031, 1033, 1039, 1049, 1051, 1061, 1063, 1069, 1087, 1091, 1093, 1097, 1103, 1109, 1117, 1123, 1129, 1151, 1153, 1163, 1171, 1181, 1187, 1193, 1201, 1213, 1217, 1223, 1229, 1231, 1237, 1249, 1259, 1277, 1279, 1283, 1289, 1291, 1297, 1301, 1303, 1307, 1319, 1321, 1327, 1361, 1367, 1373, 1381, 1399, 1409, 1423, 1427, 1429, 1433, 1439, 1447, 1451, 1453, 1459, 1471, 1481, 1483, 1487, 1489, 1493, 1499, 1511, 1523, 1531, 1543, 1549, 1553, 1559, 1567, 1571, 1579, 1583, 1597, 1601, 1607, 1609, 1613, 1619, 1621, 1627, 1637, 1657, 1663, 1667, 1669, 1693, 1697, 1699, 1709, 1721, 1723, 1733, 1741, 1747, 1753, 1759, 1777, 1783, 1787, 1789, 1801, 1811, 1823, 1831, 1847, 1861, 1867, 1871, 1873, 1877, 1879, 1889, 1901, 1907, 1913, 1931, 1933, 1949, 1951, 1973, 1979, 1987, 1993, 1997, 1999, 2003, 2011, 2017, 2027, 2029, 2039, 2053, 2063, 2069, 2081, 2083, 2087, 2089, 2099, 2111, 2113, 2129, 2131, 2137, 2141, 2143, 2153, 2161, 2179, 2203, 2207, 2213, 2221, 2237, 2239, 2243, 2251, 2267, 2269, 2273, 2281, 2287, 2293, 2297, 2309, 2311, 2333, 2339, 2341, 2347, 2351, 2357, 2371, 2377, 2381, 2383, 2389, 2393, 2399, 2411, 2417, 2423, 2437, 2441, 2447, 2459, 2467, 2473, 2477, 2503, 2521, 2531, 2539, 2543, 2549, 2551, 2557, 2579, 2591, 2593, 2609, 2617, 2621, 2633, 2647, 2657, 2659, 2663, 2671, 2677, 2683, 2687, 2689, 2693, 2699, 2707, 2711, 2713, 2719, 2729, 2731, 2741, 2749, 2753, 2767, 2777, 2789, 2791, 2797, 2801, 2803, 2819, 2833, 2837, 2843, 2851, 2857, 2861, 2879, 2887, 2897, 2903, 2909, 2917, 2927, 2939, 2953, 2957, 2963, 2969, 2971, 2999, 3001, 3011, 3019, 3023, 3037, 3041, 3049, 3061, 3067, 3079, 3083, 3089, 3109, 3119, 3121, 3137, 3163, 3167, 3169, 3181, 3187, 3191, 3203, 3209, 3217, 3221, 3229, 3251, 3253, 3257, 3259, 3271, 3299, 3301, 3307, 3313, 3319, 3323, 3329, 3331, 3343, 3347, 3359, 3361, 3371, 3373, 3389, 3391, 3407, 3413, 3433, 3449, 3457, 3461, 3463, 3467, 3469, 3491, 3499, 3511, 3517, 3527, 3529, 3533, 3539, 3541, 3547, 3557, 3559, 3571, 3581, 3583, 3593, 3607, 3613, 3617, 3623, 3631, 3637, 3643, 3659, 3671, 3673, 3677, 3691, 3697, 3701, 3709, 3719, 3727, 3733, 3739, 3761, 3767, 3769, 3779, 3793, 3797, 3803, 3821, 3823, 3833, 3847, 3851, 3853, 3863, 3877, 3881, 3889, 3907, 3911, 3917, 3919, 3923, 3929, 3931, 3943, 3947, 3967, 3989, 4001, 4003, 4007, 4013, 4019, 4021, 4027, 4049, 4051, 4057, 4073, 4079, 4091, 4093, 4099, 4111, 4127, 4129, 4133, 4139, 4153, 4157, 4159, 4177, 4201, 4211, 4217, 4219, 4229, 4231, 4241, 4243, 4253, 4259, 4261, 4271, 4273, 4283, 4289, 4297, 4327, 4337, 4339, 4349, 4357, 4363, 4373, 4391, 4397, 4409, 4421, 4423, 4441, 4447, 4451, 4457, 4463, 4481, 4483, 4493, 4507, 4513, 4517, 4519, 4523, 4547, 4549, 4561, 4567, 4583, 4591, 4597, 4603, 4621, 4637, 4639, 4643, 4649, 4651, 4657, 4663, 4673, 4679, 4691, 4703, 4721, 4723, 4729, 4733, 4751, 4759, 4783, 4787, 4789, 4793, 4799, 4801, 4813, 4817, 4831, 4861, 4871, 4877, 4889, 4903, 4909, 4919, 4931, 4933, 4937, 4943, 4951, 4957, 4967, 4969, 4973, 4987, 4993, 4999, 5003, 5009, 5011, 5021, 5023, 5039, 5051, 5059, 5077, 5081, 5087, 5099, 5101, 5107, 5113, 5119, 5147, 5153, 5167, 5171, 5179, 5189, 5197, 5209, 5227, 5231, 5233, 5237, 5261, 5273, 5279, 5281, 5297, 5303, 5309, 5323, 5333, 5347, 5351, 5381, 5387, 5393, 5399, 5407, 5413, 5417, 5419, 5431, 5437, 5441, 5443, 5449, 5471, 5477, 5479, 5483, 5501, 5503, 5507, 5519, 5521, 5527, 5531, 5557, 5563, 5569, 5573, 5581, 5591, 5623, 5639, 5641, 5647, 5651, 5653, 5657, 5659, 5669, 5683, 5689, 5693, 5701, 5711, 5717, 5737, 5741, 5743, 5749, 5779, 5783, 5791, 5801, 5807, 5813, 5821, 5827, 5839, 5843, 5849, 5851, 5857, 5861, 5867, 5869, 5879, 5881, 5897, 5903, 5923, 5927, 5939, 5953, 5981, 5987, 6007, 6011, 6029, 6037, 6043, 6047, 6053, 6067, 6073, 6079, 6089, 6091, 6101, 6113, 6121, 6131, 6133, 6143, 6151, 6163, 6173, 6197, 6199, 6203, 6211, 6217, 6221, 6229, 6247, 6257, 6263, 6269, 6271, 6277, 6287, 6299, 6301, 6311, 6317, 6323, 6329, 6337, 6343, 6353, 6359, 6361, 6367, 6373, 6379, 6389, 6397, 6421, 6427, 6449, 6451, 6469, 6473, 6481, 6491, 6521, 6529, 6547, 6551, 6553, 6563, 6569, 6571, 6577, 6581, 6599, 6607, 6619, 6637, 6653, 6659, 6661, 6673, 6679, 6689, 6691, 6701, 6703, 6709, 6719, 6733, 6737, 6761, 6763, 6779, 6781, 6791, 6793, 6803, 6823, 6827, 6829, 6833, 6841, 6857, 6863, 6869, 6871, 6883, 6899, 6907, 6911, 6917, 6947, 6949, 6959, 6961, 6967, 6971, 6977, 6983, 6991, 6997, 7001, 7013, 7019, 7027, 7039, 7043, 7057, 7069, 7079, 7103, 7109, 7121, 7127, 7129, 7151, 7159, 7177, 7187, 7193, 7207, 7211, 7213, 7219, 7229, 7237, 7243, 7247, 7253, 7283, 7297, 7307, 7309, 7321, 7331, 7333, 7349, 7351, 7369, 7393, 7411, 7417, 7433, 7451, 7457, 7459, 7477, 7481, 7487, 7489, 7499, 7507, 7517, 7523, 7529, 7537, 7541, 7547, 7549, 7559, 7561, 7573, 7577, 7583, 7589, 7591, 7603, 7607, 7621, 7639, 7643, 7649, 7669, 7673, 7681, 7687, 7691, 7699, 7703, 7717, 7723, 7727, 7741, 7753, 7757, 7759, 7789, 7793, 7817, 7823, 7829, 7841, 7853, 7867, 7873, 7877, 7879, 7883, 7901, 7907, 7919]\n"
     ]
    }
   ],
   "source": [
    "import math\n",
    "\n",
    "def factors(n):\n",
    "    factorlist = []\n",
    "    for i in range(1, n+1):\n",
    "        if n % i == 0:\n",
    "            factorlist.append(i)\n",
    "    return factorlist\n",
    "\n",
    "def prime(n):\n",
    "    #return(factors(n) == [1, n])\n",
    "    return(len(factors(n)) == 2)\n",
    "\n",
    "def isprime(n):\n",
    "    if n == 1:\n",
    "        return False\n",
    "    result = True\n",
    "    for i in range(2,n):\n",
    "        if n % i == 0:\n",
    "            result = False\n",
    "            break\n",
    "    return result\n",
    "\n",
    "def isprime_while(n):\n",
    "    if n == 1:\n",
    "        return False\n",
    "    result, i = True, 2\n",
    "    while result and i < n:\n",
    "        if n % i == 0:\n",
    "            result = False\n",
    "        i += 1\n",
    "    return result\n",
    "\n",
    "def isprime_while_fast(n):\n",
    "    if n == 1:\n",
    "        return False\n",
    "    result, i = True, 2\n",
    "    while result and i <= math.sqrt(n):\n",
    "        if n % i == 0:\n",
    "            result = False\n",
    "        i += 1\n",
    "    return result\n",
    "\n",
    "def primesupto(n):\n",
    "    primelist = []\n",
    "    for i in range(1, n+1):\n",
    "        if isprime_while_fast(i):\n",
    "            primelist.append(i)\n",
    "    return primelist\n",
    "\n",
    "def firstprimes(n):\n",
    "    count, i, pl = 0, 1, []\n",
    "    while count<n:\n",
    "        if prime(i):\n",
    "            pl.append(i)\n",
    "            count += 1\n",
    "        i += 1\n",
    "    return pl\n",
    "\n",
    "print(primesupto(100))\n",
    "print(firstprimes(1000))\n"
   ]
  },
  {
   "cell_type": "code",
   "execution_count": 43,
   "metadata": {},
   "outputs": [
    {
     "data": {
      "text/plain": [
       "{1: 1,\n",
       " 2: 205,\n",
       " 4: 202,\n",
       " 6: 299,\n",
       " 8: 101,\n",
       " 14: 54,\n",
       " 10: 119,\n",
       " 12: 105,\n",
       " 18: 40,\n",
       " 20: 15,\n",
       " 22: 16,\n",
       " 34: 2,\n",
       " 24: 15,\n",
       " 16: 33,\n",
       " 26: 3,\n",
       " 28: 5,\n",
       " 30: 11,\n",
       " 32: 1,\n",
       " 36: 1}"
      ]
     },
     "execution_count": 43,
     "metadata": {},
     "output_type": "execute_result"
    }
   ],
   "source": [
    "def primediffs(n):\n",
    "    lastprime = 2\n",
    "    pd = {} # dictionary for prime differences\n",
    "    for i in range(3, n+1):\n",
    "        if isprime_while_fast(i):\n",
    "            d = i - lastprime\n",
    "            lastprime = i\n",
    "            if d in pd.keys():\n",
    "                pd[d] = pd[d] + 1\n",
    "            else:\n",
    "                pd[d] = 1\n",
    "    return pd\n",
    "primediffs(10000)"
   ]
  },
  {
   "cell_type": "markdown",
   "metadata": {},
   "source": [
    "### Greatest common divisor"
   ]
  },
  {
   "cell_type": "code",
   "execution_count": 23,
   "metadata": {},
   "outputs": [
    {
     "data": {
      "text/plain": [
       "4"
      ]
     },
     "execution_count": 23,
     "metadata": {},
     "output_type": "execute_result"
    }
   ],
   "source": [
    "def gcd(m,n):\n",
    "    cf = []\n",
    "    for i in range(1, min(m,n) + 1):\n",
    "        if m%i == 0 and n%i == 0:\n",
    "            cf.append(i)\n",
    "    return cf[-1]\n",
    "\n",
    "gcd(8, 12)"
   ]
  },
  {
   "cell_type": "code",
   "execution_count": 66,
   "metadata": {},
   "outputs": [
    {
     "data": {
      "text/plain": [
       "4"
      ]
     },
     "execution_count": 66,
     "metadata": {},
     "output_type": "execute_result"
    }
   ],
   "source": [
    "def gcd_mrcf(m,n):\n",
    "    for i in range(1, min(m,n) + 1):\n",
    "        if m%i == 0 and n%i == 0:\n",
    "            mrcf = i\n",
    "    return mrcf\n",
    "\n",
    "gcd_mrcf(8, 12)\n"
   ]
  },
  {
   "cell_type": "code",
   "execution_count": 78,
   "metadata": {},
   "outputs": [],
   "source": [
    "def gcd_diff_recur(m,n):\n",
    "    a, b = max(m,n), min(m,n)\n",
    "    if a % b == 0:\n",
    "        return b\n",
    "    else:\n",
    "        return gcd_diff_recur(b, a - b)"
   ]
  },
  {
   "cell_type": "code",
   "execution_count": 67,
   "metadata": {},
   "outputs": [
    {
     "data": {
      "text/plain": [
       "61232"
      ]
     },
     "execution_count": 67,
     "metadata": {},
     "output_type": "execute_result"
    }
   ],
   "source": [
    "def gcd_fast(m,n):\n",
    "    a, b = max(m,n), min(m,n)\n",
    "    if a % b == 0:\n",
    "        return b\n",
    "    else:\n",
    "        return gcd_fast(b, a % b)\n",
    "    \n",
    "gcd_fast(3918848, 1653264)"
   ]
  },
  {
   "cell_type": "code",
   "execution_count": 97,
   "metadata": {},
   "outputs": [
    {
     "data": {
      "text/plain": [
       "61232"
      ]
     },
     "execution_count": 97,
     "metadata": {},
     "output_type": "execute_result"
    }
   ],
   "source": [
    "def gcd_fast(m,n):\n",
    "    if n == 0:\n",
    "        return m\n",
    "    else:\n",
    "        return gcd_fast(n, m % n)\n",
    "    \n",
    "gcd_fast(3918848, 1653264)"
   ]
  },
  {
   "cell_type": "markdown",
   "metadata": {},
   "source": [
    "### Stress test"
   ]
  },
  {
   "cell_type": "code",
   "execution_count": 99,
   "metadata": {},
   "outputs": [],
   "source": [
    "# stress test\n",
    "import numpy as np\n",
    "def StressTest(f1, f2 = gcd_mrcf):\n",
    "    np.random.seed(42)\n",
    "    while True:\n",
    "        a, b = np.random.randint(1, 10000, (2,))\n",
    "        result1 = f1(a, b)\n",
    "        result2 = f2(a, b)\n",
    "        if result1 == result2:\n",
    "            print(\"OK\")\n",
    "        else:\n",
    "            print(f\"Wrong answer: {a = }, {b = }, {result1 = }, {result2 = }\")\n",
    "            break\n",
    "\n",
    "# StressTest(gcd_fast)"
   ]
  },
  {
   "cell_type": "markdown",
   "metadata": {},
   "source": [
    "### Exception Handling"
   ]
  },
  {
   "cell_type": "code",
   "execution_count": 6,
   "metadata": {},
   "outputs": [
    {
     "name": "stdout",
     "output_type": "stream",
     "text": [
      "5\n",
      "5\n",
      "5\n"
     ]
    }
   ],
   "source": [
    "# n = \"test\"\n",
    "n = 5\n",
    "try:\n",
    "    a = int(n)\n",
    "    print(a)\n",
    "except Exception as e:\n",
    "    print(e)\n",
    "else:\n",
    "    print(a)\n",
    "print(n)"
   ]
  },
  {
   "cell_type": "code",
   "execution_count": 10,
   "metadata": {},
   "outputs": [
    {
     "data": {
      "text/plain": [
       "{'Shefali': [3, 22], 'Harmanpreet': [200, 3], 'Smriti': [100, 5]}"
      ]
     },
     "execution_count": 10,
     "metadata": {},
     "output_type": "execute_result"
    }
   ],
   "source": [
    "scores = {\"Shefali\": [3,22], \"Harmanpreet\": [200, 3]}\n",
    "b, s = \"Smriti\", [100, 5]\n",
    "# b, s = \"Shefali\", [100, 5]\n",
    "try:\n",
    "    scores[b].append(s)\n",
    "except KeyError:\n",
    "    scores[b] = s\n",
    "\n",
    "scores"
   ]
  },
  {
   "cell_type": "markdown",
   "metadata": {},
   "source": [
    "### OOP"
   ]
  },
  {
   "cell_type": "code",
   "execution_count": 56,
   "metadata": {},
   "outputs": [
    {
     "name": "stdout",
     "output_type": "stream",
     "text": [
      "(7,12)\n"
     ]
    }
   ],
   "source": [
    "import math\n",
    "class Point:\n",
    "    def __init__(self, a=0, b=0):\n",
    "        self.x = a\n",
    "        self.y = b\n",
    "\n",
    "    def translate(self, deltax, deltay):\n",
    "        self.x += deltax\n",
    "        self.y += deltay\n",
    "\n",
    "    def odistance(self):\n",
    "        d = math.sqrt(self.x * self.x + self.y * self.y)\n",
    "        return(d)\n",
    "    \n",
    "    def __str__(self):\n",
    "        return(f'({self.x},{self.y})')\n",
    "    \n",
    "    def __add__(self, other):\n",
    "        return(Point(self.x + other.x, self.y + other.y))\n",
    "\n",
    "origin, A, B = Point(), Point(3, 5), Point(4, 7)\n",
    "print(A + B)"
   ]
  },
  {
   "cell_type": "code",
   "execution_count": 44,
   "metadata": {},
   "outputs": [],
   "source": [
    "class Polar:\n",
    "    def __init__(self, a=0, b=0):\n",
    "        self.r = math.sqrt(a*a + b*b)\n",
    "        if a == 0:\n",
    "            self.theta = math.pi / 2\n",
    "        else:\n",
    "            self.theta = math.atan(b/a)\n",
    "    \n",
    "    def odistance(self):\n",
    "        return(self.r)\n",
    "    \n",
    "    def translate(self, deltax, deltay):\n",
    "        x = self.r * math.cos(self.theta)\n",
    "        y = self.r * math.sin(self.theta)\n",
    "        x += deltax\n",
    "        y += deltay\n",
    "        self.r = math.sqrt(x*x + y*y)\n",
    "        if x == 0:\n",
    "            self.theta = math.pi/2\n",
    "        else:\n",
    "            self.theta = math.atan(y/x)\n",
    "\n"
   ]
  },
  {
   "cell_type": "markdown",
   "metadata": {},
   "source": [
    "### Timer"
   ]
  },
  {
   "cell_type": "code",
   "execution_count": 58,
   "metadata": {},
   "outputs": [],
   "source": [
    "import time\n",
    "class TimerError(Exception):\n",
    "    \"\"\" A custom exception used to report errors in use of Timer class\"\"\"\n",
    "\n",
    "class Timer:\n",
    "\n",
    "    def __init__(self):\n",
    "        self._start_time = None\n",
    "        self._elapsed_time = None\n",
    "\n",
    "    def start(self):\n",
    "        \"\"\" Start a new timer \"\"\"\n",
    "        if self._start_time is not None:\n",
    "            raise TimerError(\"Timer is running. Use .stop()\")\n",
    "        self._start_time = time.perf_counter()\n",
    "\n",
    "    def stop(self):\n",
    "        \"\"\" Save the elapsed time and re-initialize timer\"\"\"\n",
    "        if self._start_time is None:\n",
    "            raise TimerError(\"Timer is not running. Use .start()\")\n",
    "        self._elapsed_time = time.perf_counter() - self._start_time\n",
    "        self._start_time = None\n",
    "\n",
    "    def elapsed(self):\n",
    "        \"\"\"Report elapsed time\"\"\"\n",
    "        if self._elapsed_time is None:\n",
    "            raise TimerError(\"Timer has not been run yet. Use .start()\")\n",
    "        return self._elapsed_time\n",
    "    \n",
    "    def __str__(self):\n",
    "        \"\"\"print() prints elapsed time\"\"\"\n",
    "        return str(self._elapsed_time)\n",
    "\n",
    "    "
   ]
  },
  {
   "cell_type": "code",
   "execution_count": 65,
   "metadata": {},
   "outputs": [
    {
     "name": "stdout",
     "output_type": "stream",
     "text": [
      "4 0.00042979203863069415\n",
      "5 0.0047681250143796206\n",
      "6 0.04055045801214874\n",
      "7 0.36232395796105266\n",
      "8 3.7064993750536814\n"
     ]
    }
   ],
   "source": [
    "t = Timer()\n",
    "for j in range(4, 9):\n",
    "    t.start()\n",
    "    n = 0\n",
    "    for i in range(10**j):\n",
    "        n = n + i\n",
    "    t.stop()\n",
    "    print(j, t)"
   ]
  },
  {
   "cell_type": "code",
   "execution_count": 71,
   "metadata": {},
   "outputs": [],
   "source": [
    "def gcd(m,n):\n",
    "    for i in range(1, min(m,n) + 1):\n",
    "        if m%i == 0 and n%i == 0:\n",
    "            mrcf = i\n",
    "    return mrcf\n",
    "\n",
    "def gcd_diff_recur(m,n):\n",
    "    a, b = max(m,n), min(m,n)\n",
    "    if a % b == 0:\n",
    "        return b\n",
    "    else:\n",
    "        return gcd_diff_recur(b, a - b)\n",
    "\n",
    "def gcd_fast(m,n):\n",
    "    a, b = max(m,n), min(m,n)\n",
    "    if a % b == 0:\n",
    "        return b\n",
    "    else:\n",
    "        return gcd_fast(b, a % b)\n",
    "    \n",
    "# def gcd_fast(m,n):\n",
    "#     if n == 0:\n",
    "#         return m\n",
    "#     else:\n",
    "#         return gcd_fast(n, m % n)"
   ]
  },
  {
   "cell_type": "code",
   "execution_count": 76,
   "metadata": {},
   "outputs": [
    {
     "data": {
      "text/plain": [
       "1"
      ]
     },
     "execution_count": 76,
     "metadata": {},
     "output_type": "execute_result"
    }
   ],
   "source": [
    "gcd(567812346, 876543217)"
   ]
  },
  {
   "cell_type": "code",
   "execution_count": 78,
   "metadata": {},
   "outputs": [
    {
     "ename": "RecursionError",
     "evalue": "maximum recursion depth exceeded in comparison",
     "output_type": "error",
     "traceback": [
      "\u001b[0;31m---------------------------------------------------------------------------\u001b[0m",
      "\u001b[0;31mRecursionError\u001b[0m                            Traceback (most recent call last)",
      "Cell \u001b[0;32mIn[78], line 1\u001b[0m\n\u001b[0;32m----> 1\u001b[0m gcd_diff_recur(\u001b[39m2\u001b[39;49m, \u001b[39m99999999\u001b[39;49m)\n",
      "Cell \u001b[0;32mIn[71], line 12\u001b[0m, in \u001b[0;36mgcd_diff_recur\u001b[0;34m(m, n)\u001b[0m\n\u001b[1;32m     10\u001b[0m     \u001b[39mreturn\u001b[39;00m b\n\u001b[1;32m     11\u001b[0m \u001b[39melse\u001b[39;00m:\n\u001b[0;32m---> 12\u001b[0m     \u001b[39mreturn\u001b[39;00m gcd_diff_recur(b, a \u001b[39m-\u001b[39;49m b)\n",
      "Cell \u001b[0;32mIn[71], line 12\u001b[0m, in \u001b[0;36mgcd_diff_recur\u001b[0;34m(m, n)\u001b[0m\n\u001b[1;32m     10\u001b[0m     \u001b[39mreturn\u001b[39;00m b\n\u001b[1;32m     11\u001b[0m \u001b[39melse\u001b[39;00m:\n\u001b[0;32m---> 12\u001b[0m     \u001b[39mreturn\u001b[39;00m gcd_diff_recur(b, a \u001b[39m-\u001b[39;49m b)\n",
      "    \u001b[0;31m[... skipping similar frames: gcd_diff_recur at line 12 (2969 times)]\u001b[0m\n",
      "Cell \u001b[0;32mIn[71], line 12\u001b[0m, in \u001b[0;36mgcd_diff_recur\u001b[0;34m(m, n)\u001b[0m\n\u001b[1;32m     10\u001b[0m     \u001b[39mreturn\u001b[39;00m b\n\u001b[1;32m     11\u001b[0m \u001b[39melse\u001b[39;00m:\n\u001b[0;32m---> 12\u001b[0m     \u001b[39mreturn\u001b[39;00m gcd_diff_recur(b, a \u001b[39m-\u001b[39;49m b)\n",
      "Cell \u001b[0;32mIn[71], line 8\u001b[0m, in \u001b[0;36mgcd_diff_recur\u001b[0;34m(m, n)\u001b[0m\n\u001b[1;32m      7\u001b[0m \u001b[39mdef\u001b[39;00m \u001b[39mgcd_diff_recur\u001b[39m(m,n):\n\u001b[0;32m----> 8\u001b[0m     a, b \u001b[39m=\u001b[39m \u001b[39mmax\u001b[39;49m(m,n), \u001b[39mmin\u001b[39m(m,n)\n\u001b[1;32m      9\u001b[0m     \u001b[39mif\u001b[39;00m a \u001b[39m%\u001b[39m b \u001b[39m==\u001b[39m \u001b[39m0\u001b[39m:\n\u001b[1;32m     10\u001b[0m         \u001b[39mreturn\u001b[39;00m b\n",
      "\u001b[0;31mRecursionError\u001b[0m: maximum recursion depth exceeded in comparison"
     ]
    }
   ],
   "source": [
    "gcd_diff_recur(2, 99999999)"
   ]
  },
  {
   "cell_type": "code",
   "execution_count": 84,
   "metadata": {},
   "outputs": [
    {
     "data": {
      "text/plain": [
       "1"
      ]
     },
     "execution_count": 84,
     "metadata": {},
     "output_type": "execute_result"
    }
   ],
   "source": [
    "gcd_fast(567812346455667451, 876543217575673434)"
   ]
  },
  {
   "cell_type": "code",
   "execution_count": null,
   "metadata": {},
   "outputs": [],
   "source": []
  }
 ],
 "metadata": {
  "kernelspec": {
   "display_name": "dsa",
   "language": "python",
   "name": "python3"
  },
  "language_info": {
   "codemirror_mode": {
    "name": "ipython",
    "version": 3
   },
   "file_extension": ".py",
   "mimetype": "text/x-python",
   "name": "python",
   "nbconvert_exporter": "python",
   "pygments_lexer": "ipython3",
   "version": "3.11.4"
  },
  "orig_nbformat": 4
 },
 "nbformat": 4,
 "nbformat_minor": 2
}
